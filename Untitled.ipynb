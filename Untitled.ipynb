{
 "cells": [
  {
   "cell_type": "code",
   "execution_count": 160,
   "id": "c1e7b48b",
   "metadata": {},
   "outputs": [],
   "source": [
    "# import our libriaries\n",
    "import pandas as pd\n",
    "import numpy as np\n",
    "import random\n",
    "import matplotlib.pyplot as plt\n",
    "import seaborn as sns\n",
    "from scipy.stats import ttest_ind\n",
    "from scipy.stats import chi2_contingency\n",
    "\n",
    "%matplotlib inline\n",
    "#We are setting the seed to assure you get the same answers on quizzes as we set up\n",
    "random.seed(42)"
   ]
  },
  {
   "cell_type": "code",
   "execution_count": 2,
   "id": "abfbde01",
   "metadata": {},
   "outputs": [],
   "source": [
    "# load our data\n",
    "data = pd.read_csv('a_b_landing.csv', index_col=0)  # index_col=0 drop 1 column\n",
    "data_countries = pd.read_csv('countries.csv', index_col=0)"
   ]
  },
  {
   "cell_type": "markdown",
   "id": "b8f03302",
   "metadata": {},
   "source": [
    "## Data preprocessing\n",
    "\n",
    "First of all, we will study our data and extract useful information."
   ]
  },
  {
   "cell_type": "code",
   "execution_count": 3,
   "id": "2ff63d2b",
   "metadata": {},
   "outputs": [
    {
     "data": {
      "text/html": [
       "<div>\n",
       "<style scoped>\n",
       "    .dataframe tbody tr th:only-of-type {\n",
       "        vertical-align: middle;\n",
       "    }\n",
       "\n",
       "    .dataframe tbody tr th {\n",
       "        vertical-align: top;\n",
       "    }\n",
       "\n",
       "    .dataframe thead th {\n",
       "        text-align: right;\n",
       "    }\n",
       "</style>\n",
       "<table border=\"1\" class=\"dataframe\">\n",
       "  <thead>\n",
       "    <tr style=\"text-align: right;\">\n",
       "      <th></th>\n",
       "      <th>user_id</th>\n",
       "      <th>timestamp</th>\n",
       "      <th>group</th>\n",
       "      <th>landing_page</th>\n",
       "      <th>converted</th>\n",
       "    </tr>\n",
       "  </thead>\n",
       "  <tbody>\n",
       "    <tr>\n",
       "      <th>0</th>\n",
       "      <td>851104</td>\n",
       "      <td>2017-01-21 22:11:48.556739</td>\n",
       "      <td>control</td>\n",
       "      <td>old_page</td>\n",
       "      <td>0</td>\n",
       "    </tr>\n",
       "    <tr>\n",
       "      <th>1</th>\n",
       "      <td>804228</td>\n",
       "      <td>2017-01-12 08:01:45.159739</td>\n",
       "      <td>control</td>\n",
       "      <td>old_page</td>\n",
       "      <td>0</td>\n",
       "    </tr>\n",
       "    <tr>\n",
       "      <th>2</th>\n",
       "      <td>661590</td>\n",
       "      <td>2017-01-11 16:55:06.154213</td>\n",
       "      <td>treatment</td>\n",
       "      <td>new_page</td>\n",
       "      <td>0</td>\n",
       "    </tr>\n",
       "    <tr>\n",
       "      <th>3</th>\n",
       "      <td>853541</td>\n",
       "      <td>2017-01-08 18:28:03.143765</td>\n",
       "      <td>treatment</td>\n",
       "      <td>new_page</td>\n",
       "      <td>0</td>\n",
       "    </tr>\n",
       "    <tr>\n",
       "      <th>4</th>\n",
       "      <td>864975</td>\n",
       "      <td>2017-01-21 01:52:26.210827</td>\n",
       "      <td>control</td>\n",
       "      <td>old_page</td>\n",
       "      <td>1</td>\n",
       "    </tr>\n",
       "  </tbody>\n",
       "</table>\n",
       "</div>"
      ],
      "text/plain": [
       "   user_id                   timestamp      group landing_page  converted\n",
       "0   851104  2017-01-21 22:11:48.556739    control     old_page          0\n",
       "1   804228  2017-01-12 08:01:45.159739    control     old_page          0\n",
       "2   661590  2017-01-11 16:55:06.154213  treatment     new_page          0\n",
       "3   853541  2017-01-08 18:28:03.143765  treatment     new_page          0\n",
       "4   864975  2017-01-21 01:52:26.210827    control     old_page          1"
      ]
     },
     "execution_count": 3,
     "metadata": {},
     "output_type": "execute_result"
    }
   ],
   "source": [
    "# check, if the correct reading\n",
    "data.head()"
   ]
  },
  {
   "cell_type": "code",
   "execution_count": 4,
   "id": "24114a3d",
   "metadata": {
    "scrolled": true
   },
   "outputs": [
    {
     "data": {
      "text/html": [
       "<div>\n",
       "<style scoped>\n",
       "    .dataframe tbody tr th:only-of-type {\n",
       "        vertical-align: middle;\n",
       "    }\n",
       "\n",
       "    .dataframe tbody tr th {\n",
       "        vertical-align: top;\n",
       "    }\n",
       "\n",
       "    .dataframe thead th {\n",
       "        text-align: right;\n",
       "    }\n",
       "</style>\n",
       "<table border=\"1\" class=\"dataframe\">\n",
       "  <thead>\n",
       "    <tr style=\"text-align: right;\">\n",
       "      <th></th>\n",
       "      <th>user_id</th>\n",
       "      <th>country</th>\n",
       "    </tr>\n",
       "  </thead>\n",
       "  <tbody>\n",
       "    <tr>\n",
       "      <th>0</th>\n",
       "      <td>834778</td>\n",
       "      <td>UK</td>\n",
       "    </tr>\n",
       "    <tr>\n",
       "      <th>1</th>\n",
       "      <td>928468</td>\n",
       "      <td>US</td>\n",
       "    </tr>\n",
       "    <tr>\n",
       "      <th>2</th>\n",
       "      <td>822059</td>\n",
       "      <td>UK</td>\n",
       "    </tr>\n",
       "    <tr>\n",
       "      <th>3</th>\n",
       "      <td>711597</td>\n",
       "      <td>UK</td>\n",
       "    </tr>\n",
       "    <tr>\n",
       "      <th>4</th>\n",
       "      <td>710616</td>\n",
       "      <td>UK</td>\n",
       "    </tr>\n",
       "  </tbody>\n",
       "</table>\n",
       "</div>"
      ],
      "text/plain": [
       "   user_id country\n",
       "0   834778      UK\n",
       "1   928468      US\n",
       "2   822059      UK\n",
       "3   711597      UK\n",
       "4   710616      UK"
      ]
     },
     "execution_count": 4,
     "metadata": {},
     "output_type": "execute_result"
    }
   ],
   "source": [
    "data_countries.head()"
   ]
  },
  {
   "cell_type": "code",
   "execution_count": 5,
   "id": "1dea1259",
   "metadata": {},
   "outputs": [
    {
     "data": {
      "text/plain": [
       "(294478, 5)"
      ]
     },
     "execution_count": 5,
     "metadata": {},
     "output_type": "execute_result"
    }
   ],
   "source": [
    "data.shape\n",
    "# we have 294478 rows and 6 columns"
   ]
  },
  {
   "cell_type": "code",
   "execution_count": 6,
   "id": "11520c2d",
   "metadata": {},
   "outputs": [
    {
     "data": {
      "text/plain": [
       "290584"
      ]
     },
     "execution_count": 6,
     "metadata": {},
     "output_type": "execute_result"
    }
   ],
   "source": [
    "# If someone attended the landing page more than once\n",
    "data['user_id'].nunique()"
   ]
  },
  {
   "cell_type": "code",
   "execution_count": 7,
   "id": "0bf7032d",
   "metadata": {},
   "outputs": [
    {
     "data": {
      "text/plain": [
       "user_id         0\n",
       "timestamp       0\n",
       "group           0\n",
       "landing_page    0\n",
       "converted       0\n",
       "dtype: int64"
      ]
     },
     "execution_count": 7,
     "metadata": {},
     "output_type": "execute_result"
    }
   ],
   "source": [
    "# Do any of the rows have missing values?\n",
    "data.isnull().sum()"
   ]
  },
  {
   "cell_type": "code",
   "execution_count": 8,
   "id": "29ce3efd",
   "metadata": {},
   "outputs": [
    {
     "data": {
      "text/plain": [
       "0    259241\n",
       "1     35237\n",
       "Name: converted, dtype: int64"
      ]
     },
     "execution_count": 8,
     "metadata": {},
     "output_type": "execute_result"
    }
   ],
   "source": [
    "# Check the number of converted users\n",
    "data['converted'].value_counts()"
   ]
  },
  {
   "cell_type": "code",
   "execution_count": 9,
   "id": "3d14c354",
   "metadata": {},
   "outputs": [
    {
     "name": "stdout",
     "output_type": "stream",
     "text": [
      "Convertion rate :  11.97 %\n"
     ]
    }
   ],
   "source": [
    "# I want to see average convertion rate for both groups\n",
    "convertion_rate_total = data['converted'].value_counts()[1] / data.shape[0]\n",
    "print('Convertion rate : ', round(convertion_rate_total*100, 2),'%')"
   ]
  },
  {
   "cell_type": "code",
   "execution_count": 10,
   "id": "9d81463c",
   "metadata": {
    "scrolled": false
   },
   "outputs": [
    {
     "data": {
      "text/html": [
       "<div>\n",
       "<style scoped>\n",
       "    .dataframe tbody tr th:only-of-type {\n",
       "        vertical-align: middle;\n",
       "    }\n",
       "\n",
       "    .dataframe tbody tr th {\n",
       "        vertical-align: top;\n",
       "    }\n",
       "\n",
       "    .dataframe thead th {\n",
       "        text-align: right;\n",
       "    }\n",
       "</style>\n",
       "<table border=\"1\" class=\"dataframe\">\n",
       "  <thead>\n",
       "    <tr style=\"text-align: right;\">\n",
       "      <th></th>\n",
       "      <th></th>\n",
       "      <th>user_id</th>\n",
       "    </tr>\n",
       "    <tr>\n",
       "      <th>landing_page</th>\n",
       "      <th>converted</th>\n",
       "      <th></th>\n",
       "    </tr>\n",
       "  </thead>\n",
       "  <tbody>\n",
       "    <tr>\n",
       "      <th rowspan=\"2\" valign=\"top\">new_page</th>\n",
       "      <th>0</th>\n",
       "      <td>129741</td>\n",
       "    </tr>\n",
       "    <tr>\n",
       "      <th>1</th>\n",
       "      <td>17498</td>\n",
       "    </tr>\n",
       "    <tr>\n",
       "      <th rowspan=\"2\" valign=\"top\">old_page</th>\n",
       "      <th>0</th>\n",
       "      <td>129500</td>\n",
       "    </tr>\n",
       "    <tr>\n",
       "      <th>1</th>\n",
       "      <td>17739</td>\n",
       "    </tr>\n",
       "  </tbody>\n",
       "</table>\n",
       "</div>"
      ],
      "text/plain": [
       "                        user_id\n",
       "landing_page converted         \n",
       "new_page     0           129741\n",
       "             1            17498\n",
       "old_page     0           129500\n",
       "             1            17739"
      ]
     },
     "execution_count": 10,
     "metadata": {},
     "output_type": "execute_result"
    }
   ],
   "source": [
    "# let's check the amount of convertion in two groups (new_page, old_page\n",
    "overall_look  =data.groupby(['landing_page', 'converted']).agg({'user_id':'count'})\n",
    "overall_look"
   ]
  },
  {
   "cell_type": "code",
   "execution_count": null,
   "id": "d0ceb6cb",
   "metadata": {},
   "outputs": [],
   "source": []
  },
  {
   "cell_type": "code",
   "execution_count": null,
   "id": "81db31fa",
   "metadata": {},
   "outputs": [],
   "source": []
  },
  {
   "cell_type": "code",
   "execution_count": 11,
   "id": "36333f81",
   "metadata": {},
   "outputs": [
    {
     "name": "stdout",
     "output_type": "stream",
     "text": [
      "new_page_convertion : 11.88%\n",
      "old_page_convertion : 12.05%\n"
     ]
    }
   ],
   "source": [
    "new_page_convertion = overall_look['user_id'][1] / (overall_look['user_id'][0] + overall_look['user_id'][1])\n",
    "old_page_convertion = overall_look['user_id'][3] / (overall_look['user_id'][2] + overall_look['user_id'][3])\n",
    "print('new_page_convertion : {new_page_convertion:.2f}%'.format(new_page_convertion=new_page_convertion*100))\n",
    "print('old_page_convertion : {old_page_convertion:.2f}%'.format(old_page_convertion=old_page_convertion*100))"
   ]
  },
  {
   "cell_type": "markdown",
   "id": "07849262",
   "metadata": {},
   "source": [
    "##### At a glance, it looks like there is no any significant difference between groups.\n",
    "\n",
    "The amount of users in two groups are similar which is good. \\\n",
    "We continue..."
   ]
  },
  {
   "cell_type": "code",
   "execution_count": 12,
   "id": "ddba6eff",
   "metadata": {},
   "outputs": [
    {
     "name": "stdout",
     "output_type": "stream",
     "text": [
      "total number of the rows in treatment_np : 145311\n",
      "total number of the rows in control_op   : 145274\n"
     ]
    }
   ],
   "source": [
    "# Create two datasets: \n",
    "# treatment_np - only rows with treatment and new_page\n",
    "# control_op   - only rows with control and old_page\n",
    "treatment_np = data.query(\"group == 'treatment' & landing_page == 'new_page'\")\n",
    "control_op = data.query(\"group == 'control' & landing_page == 'old_page'\")\n",
    "print('total number of the rows in treatment_np :',treatment_np.shape[0])\n",
    "print('total number of the rows in control_op   :',control_op.shape[0])"
   ]
  },
  {
   "cell_type": "code",
   "execution_count": 13,
   "id": "188a00f5",
   "metadata": {},
   "outputs": [
    {
     "data": {
      "text/html": [
       "<div>\n",
       "<style scoped>\n",
       "    .dataframe tbody tr th:only-of-type {\n",
       "        vertical-align: middle;\n",
       "    }\n",
       "\n",
       "    .dataframe tbody tr th {\n",
       "        vertical-align: top;\n",
       "    }\n",
       "\n",
       "    .dataframe thead th {\n",
       "        text-align: right;\n",
       "    }\n",
       "</style>\n",
       "<table border=\"1\" class=\"dataframe\">\n",
       "  <thead>\n",
       "    <tr style=\"text-align: right;\">\n",
       "      <th></th>\n",
       "      <th>user_id</th>\n",
       "      <th>timestamp</th>\n",
       "      <th>group</th>\n",
       "      <th>landing_page</th>\n",
       "      <th>converted</th>\n",
       "    </tr>\n",
       "  </thead>\n",
       "  <tbody>\n",
       "    <tr>\n",
       "      <th>2893</th>\n",
       "      <td>773192</td>\n",
       "      <td>2017-01-14 02:55:59.590927</td>\n",
       "      <td>treatment</td>\n",
       "      <td>new_page</td>\n",
       "      <td>0</td>\n",
       "    </tr>\n",
       "  </tbody>\n",
       "</table>\n",
       "</div>"
      ],
      "text/plain": [
       "      user_id                   timestamp      group landing_page  converted\n",
       "2893   773192  2017-01-14 02:55:59.590927  treatment     new_page          0"
      ]
     },
     "execution_count": 13,
     "metadata": {},
     "output_type": "execute_result"
    }
   ],
   "source": [
    "# Check users who attended our landing page more than once\n",
    "treatment_np[treatment_np['user_id'].duplicated()]\n",
    "# user_id == 773192 visited more than once. Let's observe it"
   ]
  },
  {
   "cell_type": "code",
   "execution_count": 14,
   "id": "e05387f5",
   "metadata": {},
   "outputs": [
    {
     "data": {
      "text/html": [
       "<div>\n",
       "<style scoped>\n",
       "    .dataframe tbody tr th:only-of-type {\n",
       "        vertical-align: middle;\n",
       "    }\n",
       "\n",
       "    .dataframe tbody tr th {\n",
       "        vertical-align: top;\n",
       "    }\n",
       "\n",
       "    .dataframe thead th {\n",
       "        text-align: right;\n",
       "    }\n",
       "</style>\n",
       "<table border=\"1\" class=\"dataframe\">\n",
       "  <thead>\n",
       "    <tr style=\"text-align: right;\">\n",
       "      <th></th>\n",
       "      <th>user_id</th>\n",
       "      <th>timestamp</th>\n",
       "      <th>group</th>\n",
       "      <th>landing_page</th>\n",
       "      <th>converted</th>\n",
       "    </tr>\n",
       "  </thead>\n",
       "  <tbody>\n",
       "    <tr>\n",
       "      <th>1899</th>\n",
       "      <td>773192</td>\n",
       "      <td>2017-01-09 05:37:58.781806</td>\n",
       "      <td>treatment</td>\n",
       "      <td>new_page</td>\n",
       "      <td>0</td>\n",
       "    </tr>\n",
       "    <tr>\n",
       "      <th>2893</th>\n",
       "      <td>773192</td>\n",
       "      <td>2017-01-14 02:55:59.590927</td>\n",
       "      <td>treatment</td>\n",
       "      <td>new_page</td>\n",
       "      <td>0</td>\n",
       "    </tr>\n",
       "  </tbody>\n",
       "</table>\n",
       "</div>"
      ],
      "text/plain": [
       "      user_id                   timestamp      group landing_page  converted\n",
       "1899   773192  2017-01-09 05:37:58.781806  treatment     new_page          0\n",
       "2893   773192  2017-01-14 02:55:59.590927  treatment     new_page          0"
      ]
     },
     "execution_count": 14,
     "metadata": {},
     "output_type": "execute_result"
    }
   ],
   "source": [
    "treatment_np[treatment_np['user_id'] == 773192]\n",
    "# it seems we can delete one observation"
   ]
  },
  {
   "cell_type": "code",
   "execution_count": 15,
   "id": "ef4ab2fd",
   "metadata": {},
   "outputs": [],
   "source": [
    "# delete one observation\n",
    "treatment_np = treatment_np.drop(axis=0, index=1899)"
   ]
  },
  {
   "cell_type": "code",
   "execution_count": 16,
   "id": "561e6e8e",
   "metadata": {},
   "outputs": [
    {
     "data": {
      "text/html": [
       "<div>\n",
       "<style scoped>\n",
       "    .dataframe tbody tr th:only-of-type {\n",
       "        vertical-align: middle;\n",
       "    }\n",
       "\n",
       "    .dataframe tbody tr th {\n",
       "        vertical-align: top;\n",
       "    }\n",
       "\n",
       "    .dataframe thead th {\n",
       "        text-align: right;\n",
       "    }\n",
       "</style>\n",
       "<table border=\"1\" class=\"dataframe\">\n",
       "  <thead>\n",
       "    <tr style=\"text-align: right;\">\n",
       "      <th></th>\n",
       "      <th>user_id</th>\n",
       "      <th>timestamp</th>\n",
       "      <th>group</th>\n",
       "      <th>landing_page</th>\n",
       "      <th>converted</th>\n",
       "    </tr>\n",
       "  </thead>\n",
       "  <tbody>\n",
       "  </tbody>\n",
       "</table>\n",
       "</div>"
      ],
      "text/plain": [
       "Empty DataFrame\n",
       "Columns: [user_id, timestamp, group, landing_page, converted]\n",
       "Index: []"
      ]
     },
     "execution_count": 16,
     "metadata": {},
     "output_type": "execute_result"
    }
   ],
   "source": [
    "# do the same with control group\n",
    "control_op[control_op['user_id'].duplicated()]\n",
    "# there is no any unnecessary observation "
   ]
  },
  {
   "cell_type": "markdown",
   "id": "f564af8a",
   "metadata": {},
   "source": [
    "## A/B test \n",
    "Second step will be the A/B test.\n",
    "\n",
    "we will compare two groups:  **treatment_np** and **control_op**. <br>\n",
    "But, before, let's do A/A test."
   ]
  },
  {
   "cell_type": "code",
   "execution_count": 162,
   "id": "984f2273",
   "metadata": {},
   "outputs": [
    {
     "data": {
      "text/plain": [
       "Ttest_indResult(statistic=-1.3109235634981506, pvalue=0.18988462498742617)"
      ]
     },
     "execution_count": 162,
     "metadata": {},
     "output_type": "execute_result"
    }
   ],
   "source": [
    "# t-test for two groups\n",
    "ttest_ind(a=treatment_np.converted, b=control_op.converted)\n",
    "# we can see, that p_value > 0.05 . It means that we have not enough power to reject the H0"
   ]
  },
  {
   "cell_type": "code",
   "execution_count": 181,
   "id": "776740fd",
   "metadata": {},
   "outputs": [],
   "source": [
    "# Try to repeat the same test, but with samples from each group and smaller size.\n",
    "# 1000 itterations. And from every itteration we will save the p_value \n",
    "# create a function for it.\n",
    "def aa_ttest(data_1, data_2, itteration=1000):\n",
    "    p_values_2 = []\n",
    "    for i in range(itteration):\n",
    "        treatment_sample_2 = data_2.sample(n=500, replace=True)\n",
    "        control_samples_2  = data_1.sample(n=500, replace=True)\n",
    "        p_value_ttest = ttest_ind(treatment_sample_2, control_samples_2, equal_var=True)[1]\n",
    "        p_values_2.append(p_value_ttest)  # add p-value to our list\n",
    "            \n",
    "    percents = sum(np.array(p_values) <= 0.05) / len(p_values)\n",
    "    result = 'p-values <= 0.05 in {percents:.2f}%\\nNormal percentage(%) of p-values should be about ~5%'.format(percents=percents*100)\n",
    "\n",
    "    return p_values_2, result"
   ]
  },
  {
   "cell_type": "code",
   "execution_count": 182,
   "id": "9449e529",
   "metadata": {},
   "outputs": [],
   "source": [
    "p_values, result = aa_ttest(control_op.converted, treatment_np.converted)"
   ]
  },
  {
   "cell_type": "code",
   "execution_count": 221,
   "id": "d1efe870",
   "metadata": {},
   "outputs": [
    {
     "data": {
      "image/png": "[encoded data removed]",
      "text/plain": [
       "<Figure size 360x360 with 1 Axes>"
      ]
     },
     "metadata": {
      "needs_background": "light"
     },
     "output_type": "display_data"
    }
   ],
   "source": [
    "sns.displot(data=p_values)\n",
    "plt.title('Frequency of the p_values (T test)')\n",
    "plt.xlabel('p_value')\n",
    "plt.ylabel('Count')\n",
    "\n",
    "plt.show()"
   ]
  },
  {
   "cell_type": "code",
   "execution_count": 222,
   "id": "84cd77cd",
   "metadata": {
    "scrolled": true
   },
   "outputs": [
    {
     "data": {
      "text/plain": [
       "'p-values <= 0.05 in 4.70%\\nNormal percentage(%) of p-values should be about ~5%'"
      ]
     },
     "execution_count": 222,
     "metadata": {},
     "output_type": "execute_result"
    }
   ],
   "source": [
    "result\n",
    "# We can see, that the frequency of p_values < 0.05 less than 5%. \n",
    "# It means , that we can not accept H1 and should accept H0."
   ]
  },
  {
   "cell_type": "code",
   "execution_count": null,
   "id": "38f828bc",
   "metadata": {},
   "outputs": [],
   "source": [
    "# As we have nominative dependent variable, it is better to use Chi square test Pearson."
   ]
  },
  {
   "cell_type": "code",
   "execution_count": 223,
   "id": "4c911d0a",
   "metadata": {},
   "outputs": [
    {
     "data": {
      "text/plain": [
       "(1.7035660051885055,\n",
       " 0.1918222809623566,\n",
       " 1,\n",
       " array([[ 17378.65274757, 127931.34725243],\n",
       "        [ 17374.34725243, 127899.65274757]]))"
      ]
     },
     "execution_count": 223,
     "metadata": {},
     "output_type": "execute_result"
    }
   ],
   "source": [
    "# We also will do the Chi square test. \n",
    "\n",
    "treament_sale = sum(treatment_np.converted)  # total number of users, who bought (treatment group)\n",
    "treatment_no_sale = len(treatment_np) - treament_sale # total number of users, who did not buy (treatment group)\n",
    "\n",
    "\n",
    "control_sale = control_op.converted.sum()  # total number of users, who bought (control group)\n",
    "control_no_sale = len(control_op) - control_op.converted.sum() # total number of users, who did not buy (control group)\n",
    "\n",
    "#Chi square test\n",
    "chi2_contingency([[treatment_sale, treatment_no_sale], [control_sale, control_no_sale]])\n",
    "# p_value ~ 0.19 > 0.05 . We can not refuse H0 that there is no difference between groups."
   ]
  },
  {
   "cell_type": "code",
   "execution_count": null,
   "id": "858fa6c4",
   "metadata": {},
   "outputs": [],
   "source": [
    "# let's try to repeat it, but with samples from each group and smaller size.\n",
    "# 1000 itterations. And from every itteration we will save the p_value \n",
    "# create a function for it.\n",
    "\n",
    "def aa_chi_test(data_1, data_2):\n",
    "    p_values_2 = []\n",
    "    for i in range(1000):\n",
    "        treatment_sample_2 = data_2.sample(n=500, replace=True)\n",
    "        control_samples_2  = data_1.sample(n=500, replace=True)\n",
    "        \n",
    "        observed = sum(treatment_sample_2)\n",
    "        observed_2 = len(treatment_sample_2) - observed\n",
    "        \n",
    "        expected = np.round(len(control_samples_2) * control_samples_2.mean())\n",
    "        expected_2 = np.round(len(control_samples_2) * (1 - control_samples_2.mean()))\n",
    "        \n",
    "        chi = chi2_contingency([[observed, observed_2], [expected, expected_2]])\n",
    "        \n",
    "        p_values_2.append(chi[1])\n",
    "        \n",
    "    return p_values_2\n",
    "\n",
    "\n",
    "\n"
   ]
  },
  {
   "cell_type": "code",
   "execution_count": 224,
   "id": "2de3ed70",
   "metadata": {},
   "outputs": [],
   "source": [
    "p_values_2 = aa_chi_test(control_op.converted, treatment_np.converted)"
   ]
  },
  {
   "cell_type": "code",
   "execution_count": 232,
   "id": "776fa60c",
   "metadata": {},
   "outputs": [
    {
     "data": {
      "image/png": "[encoded data removed]",
      "text/plain": [
       "<Figure size 360x360 with 1 Axes>"
      ]
     },
     "metadata": {
      "needs_background": "light"
     },
     "output_type": "display_data"
    }
   ],
   "source": [
    "sns.displot(data=p_values_2)\n",
    "plt.title('Frequency of the p_values (Chi square test)')\n",
    "plt.xlabel('p_value')\n",
    "plt.ylabel('Count')\n",
    "\n",
    "plt.show()"
   ]
  },
  {
   "cell_type": "code",
   "execution_count": 230,
   "id": "05070a4c",
   "metadata": {},
   "outputs": [
    {
     "data": {
      "text/plain": [
       "0.038"
      ]
     },
     "execution_count": 230,
     "metadata": {},
     "output_type": "execute_result"
    }
   ],
   "source": [
    "p_values_percenatge = sum(np.array(p_values_2)<0.05)/len(p_values_2)\n",
    "p_values_percenatge\n",
    "\n",
    "# We can see, that the frequency of p_values < 0.05 less than 5%. \n",
    "# It means , that we can not accept H1 and should accept H0."
   ]
  },
  {
   "cell_type": "code",
   "execution_count": null,
   "id": "c43935dc",
   "metadata": {},
   "outputs": [],
   "source": []
  }
 ],
 "metadata": {
  "kernelspec": {
   "display_name": "Python 3 (ipykernel)",
   "language": "python",
   "name": "python3"
  },
  "language_info": {
   "codemirror_mode": {
    "name": "ipython",
    "version": 3
   },
   "file_extension": ".py",
   "mimetype": "text/x-python",
   "name": "python",
   "nbconvert_exporter": "python",
   "pygments_lexer": "ipython3",
   "version": "3.8.5"
  }
 },
 "nbformat": 4,
 "nbformat_minor": 5
}
